{
 "cells": [
  {
   "cell_type": "code",
   "execution_count": null,
   "outputs": [],
   "source": [
    "import numpy as np # linear algebra\n",
    "import pandas as pd # data processing, CSV file I/O (e.g. pd.read_csv)\n",
    "\n",
    "# Input data files are available in the read-only \"../input/\" directory\n",
    "# For example, running this (by clicking run or pressing Shift+Enter) will list all files under the input directory\n",
    "\n",
    "import os\n",
    "for dirname, _, filenames in os.walk('/kaggle/input'):\n",
    "    for filename in filenames:\n",
    "        print(os.path.join(dirname, filename))"
   ],
   "metadata": {
    "collapsed": false,
    "pycharm": {
     "name": "#%%\n"
    }
   }
  },
  {
   "cell_type": "code",
   "execution_count": null,
   "metadata": {
    "collapsed": true
   },
   "outputs": [],
   "source": [
    "%%writefile submission3.py\n",
    "\n",
    "# Imports helper functions\n",
    "from kaggle_environments.envs.halite.helpers import *\n",
    "\n",
    "# Returns best direction to move from one position (fromPos) to another (toPos)\n",
    "# Example: If I'm at pos 0 and want to get to pos 55, which direction should I choose?\n",
    "def getDirTo(fromPos, toPos, size):\n",
    "    fromX, fromY = divmod(fromPos[0],size), divmod(fromPos[1],size)\n",
    "    toX, toY = divmod(toPos[0],size), divmod(toPos[1],size)\n",
    "    if fromY < toY: return ShipAction.NORTH\n",
    "    if fromY > toY: return ShipAction.SOUTH\n",
    "    if fromX < toX: return ShipAction.EAST\n",
    "    if fromX > toX: return ShipAction.WEST\n",
    "\n",
    "# Directions a ship can move\n",
    "directions = [ShipAction.NORTH, ShipAction.EAST, ShipAction.SOUTH, ShipAction.WEST]\n",
    "\n",
    "# Will keep track of whether a ship is collecting halite or carrying cargo to a shipyard\n",
    "ship_states = {}\n",
    "\n",
    "# Returns the commands we send to our ships and shipyards\n",
    "def agent(obs, config):\n",
    "    size = config.size\n",
    "    board = Board(obs, config)\n",
    "    me = board.current_player\n",
    "\n",
    "    # If there are no ships, use first shipyard to spawn a ship.\n",
    "    if len(me.ships) == 0 and len(me.shipyards) > 0:\n",
    "        me.shipyards[0].next_action = ShipyardAction.SPAWN\n",
    "\n",
    "    # If there are no shipyards, convert first ship into shipyard.\n",
    "    if len(me.shipyards) == 0 and len(me.ships) > 0:\n",
    "        me.ships[0].next_action = ShipAction.CONVERT\n",
    "\n",
    "    for ship in me.ships:\n",
    "        if ship.next_action == None:\n",
    "\n",
    "            ### Part 1: Set the ship's state\n",
    "            if ship.halite < 200: # If cargo is too low, collect halite\n",
    "                ship_states[ship.id] = \"COLLECT\"\n",
    "            if ship.halite > 1000: # If cargo gets very big, deposit halite\n",
    "                ship_states[ship.id] = \"DEPOSIT\"\n",
    "\n",
    "            ### Part 2: Use the ship's state to select an action\n",
    "            if ship_states[ship.id] == \"COLLECT\":\n",
    "                # If halite at current location running low,\n",
    "                # move to the adjacent square containing the most halite\n",
    "                if ship.cell.halite < 100:\n",
    "\n",
    "                    neighbors_halite = [ship.cell.north.halite, ship.cell.east.halite,\n",
    "                                       ship.cell.south.halite, ship.cell.west.halite,\n",
    "                                       ship.cell.north.west.halite,ship.cell.north.east.halite,\n",
    "                                       ship.cell.south.east.halite,ship.cell.south.west.halite]\n",
    "\n",
    "                    neighbors = [ship.cell.north.position, ship.cell.east.position,\n",
    "                                       ship.cell.south.position, ship.cell.west.position,\n",
    "                                       ship.cell.north.west.position,ship.cell.north.east.position,\n",
    "                                       ship.cell.south.east.position,ship.cell.south.west.position]\n",
    "\n",
    "                    best = max(range(len(neighbors_halite)), key=neighbors_halite.__getitem__)\n",
    "                    ship.next_action = getDirTo(ship.position,neighbors[best] , size)\n",
    "\n",
    "                    #print(\"NN: \",ship.cell.north.north.position,\"\\n\",\"NE:\",ship.cell.north.east.position)\n",
    "\n",
    "            if ship_states[ship.id] == \"DEPOSIT\":\n",
    "                # Move towards shipyard to deposit cargo\n",
    "                direction = getDirTo(ship.position, me.shipyards[0].position, size)\n",
    "                if direction: ship.next_action = direction\n",
    "\n",
    "    return me.next_actions"
   ]
  },
  {
   "cell_type": "code",
   "execution_count": null,
   "outputs": [],
   "source": [
    "from kaggle_environments import make\n",
    "env = make(\"halite\", debug=True)\n",
    "env.run([\"submission.py\", \"submission2.py\", \"submission3.py\", \"random\"])\n",
    "env.render(mode=\"ipython\", width=800, height=600)"
   ],
   "metadata": {
    "collapsed": false,
    "pycharm": {
     "name": "#%%\n"
    }
   }
  }
 ],
 "metadata": {
  "kernelspec": {
   "display_name": "Python 3",
   "language": "python",
   "name": "python3"
  },
  "language_info": {
   "codemirror_mode": {
    "name": "ipython",
    "version": 2
   },
   "file_extension": ".py",
   "mimetype": "text/x-python",
   "name": "python",
   "nbconvert_exporter": "python",
   "pygments_lexer": "ipython2",
   "version": "2.7.6"
  }
 },
 "nbformat": 4,
 "nbformat_minor": 0
}